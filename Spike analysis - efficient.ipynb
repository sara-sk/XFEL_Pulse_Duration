{
 "cells": [
  {
   "cell_type": "markdown",
   "metadata": {},
   "source": [
    "spectrum: length of dataset\n",
    "\n",
    "Backloop class:\n",
    "lowpassdata: data fed to lowpass function\n",
    "lpfn: data after lowpass filter\n",
    "\n"
   ]
  },
  {
   "cell_type": "code",
   "execution_count": 16,
   "metadata": {},
   "outputs": [],
   "source": [
    "import sys\n",
    "import h5py\n",
    "import glob\n",
    "import numpy as np \n",
    "from numpy import random\n",
    "import matplotlib.pyplot as plt\n",
    "from scipy import signal\n",
    "import scipy as sp\n",
    "from scipy.signal import butter\n",
    "from scipy.optimize import curve_fit\n",
    "from lmfit.models import GaussianModel\n",
    "import time\n",
    "import random"
   ]
  },
  {
   "cell_type": "code",
   "execution_count": 267,
   "metadata": {},
   "outputs": [],
   "source": [
    "# reading h5 file\n",
    "f = h5py.File(\"20190518_173944_projection-Copy1.h5\")\n",
    "list(f.keys())\n",
    "shots = f.get(\"n-shots\")\n",
    "photE = f.get(\"x-axis\")\n",
    "intense = f.get(\"y-axis\")\n",
    "spectrum = range(0,len(intense[1,:]-1)) # for parameter redefinition\n",
    "x = np.asarray(spectrum)"
   ]
  },
  {
   "cell_type": "code",
   "execution_count": 112,
   "metadata": {},
   "outputs": [],
   "source": [
    "# Peak finding parameters\n",
    "heightcut = 10 # percentage height of max a peak must be\n",
    "prominence = 10 # percentage prominence required for peak"
   ]
  },
  {
   "cell_type": "code",
   "execution_count": 101,
   "metadata": {},
   "outputs": [],
   "source": [
    "# Lowpass/backloop conditions\n",
    "deg = 5 # lowpass function degree. Chosen by inspection.\n",
    "threshold = 10 # percentage overlap threshold for spectra to be sent through slow fit\n",
    "backloop_condition = 8 # percentage height difference between max of raw and max of lp function (maybe determine in terms of noise)"
   ]
  },
  {
   "cell_type": "code",
   "execution_count": 102,
   "metadata": {
    "scrolled": true
   },
   "outputs": [
    {
     "name": "stdout",
     "output_type": "stream",
     "text": [
      "trialling for spectrum 48\n",
      "trialling for spectrum 90\n",
      "trialling for spectrum 21\n",
      "trialling for spectrum 39\n",
      "Average cutoff for dataset: 0.0147\n"
     ]
    }
   ],
   "source": [
    "cutoff = Fast_Backloop().cutoff() # uncomment visual module in class to see fitting"
   ]
  },
  {
   "cell_type": "code",
   "execution_count": null,
   "metadata": {},
   "outputs": [],
   "source": [
    "for i in len(intense[:,1]):\n",
    "    Fast_fit(intense[i,:])"
   ]
  },
  {
   "cell_type": "code",
   "execution_count": 370,
   "metadata": {},
   "outputs": [
    {
     "name": "stdout",
     "output_type": "stream",
     "text": [
      "number of peaks: 3\n"
     ]
    },
    {
     "data": {
      "text/plain": [
       "<__main__.Fast_Fit at 0x1c1c42f898>"
      ]
     },
     "execution_count": 370,
     "metadata": {},
     "output_type": "execute_result"
    }
   ],
   "source": [
    "Fast_Fit(intense[19,:], deg, cutoff)"
   ]
  },
  {
   "cell_type": "code",
   "execution_count": 369,
   "metadata": {},
   "outputs": [],
   "source": [
    "class Fast_Fit:\n",
    "    def __init__(self, lowpassdata, deg, cutoff):\n",
    "        self.cutoff = float(cutoff)\n",
    "        # lowpass function itself\n",
    "        self.lowpassdata = lowpassdata\n",
    "        b, a = signal.butter(deg, self.cutoff, 'low')\n",
    "        self.spec = signal.filtfilt(b, a, self.lowpassdata)\n",
    "        \n",
    "        # shift spectrum\n",
    "        self.lpfn = self.spec - min(self.spec)\n",
    "        \n",
    "        # calculate noise\n",
    "        self.noise = np.array([self.lowpassdata-self.spec]).T\n",
    "        \n",
    "        \"\"\"\n",
    "        # visual module\n",
    "        print(\"plotting lowpass data vs raw data, noise etc\")\n",
    "        plt.plot(photE,self.lowpassdata,label=\"raw data\")\n",
    "        plt.plot(photE,self.lpfn,label=\"shifted spectrum\")\n",
    "        plt.plot(photE,self.spec,label=\"lowpass\")\n",
    "        plt.plot(photE,self.noise,label=\"noise\")\n",
    "        plt.legend()\n",
    "        plt.show()\n",
    "        \"\"\"\n",
    "        \n",
    "        # Extracting peaks ([x-axis, y-axis]) - indexed to neutral\n",
    "        self.peaks = Peakfinder(self.lpfn).peaks\n",
    "        \n",
    "        # Apply further constraints to peaks\n",
    "        self.filteredpeaks = Filter_peaks(self.peaks).filtered_peaks()\n",
    "                \n",
    "        # number of peaks, after filtering.\n",
    "        self.n = len(self.filteredpeaks)\n",
    "        \n",
    "        fn = Slice(self.lpfn,self.filteredpeaks, self.n)\n",
    "        \n",
    "        # Slice into individual peak functions, outside peak spectrum = 0. \n",
    "        self.slices = fn.slices()\n",
    "        \n",
    "        # checking that we have as many slices as we have peaks.\n",
    "        print(\"number of peaks:\",self.n)\n",
    "        # Approximate slices with Gaussians\n",
    "        \n",
    "        fn1 = Gauss(self.slices)\n",
    "        Gaussian = fn1.Added_Gaussian()  \n",
    "        IndivGauss = fn1.IndivGaussians()\n",
    "        \n",
    "        \"\"\"\n",
    "        # Visual module: comparing Gaussian to lowpass function - including individual gaussians\n",
    "        plt.plot(Gaussian, label = \"Added Gaussian\")\n",
    "        plt.plot(self.lpfn, label = \"Shifted lowpass\")\n",
    "        for i in range(IndivGauss.shape[0]):\n",
    "            plt.plot(IndivGauss[i],'--', markersize = '0.1', label = \"indiv gaussian\")\n",
    "        plt.legend()\n",
    "        plt.show()\n",
    "        #\"\"\"\n",
    "        \n",
    "        minima = fn.SlicingPoints()\n",
    "        \n",
    "        \n",
    "            \n",
    "        "
   ]
  },
  {
   "cell_type": "code",
   "execution_count": 317,
   "metadata": {},
   "outputs": [],
   "source": [
    "class Gauss:\n",
    "    def __init__(self, data):\n",
    "        self.data = data\n",
    "        self.gaussResults = []\n",
    "        self.sigmas = []\n",
    "        for i in range(len(self.data)):\n",
    "            peak = self.data[i,:]\n",
    "            mod = GaussianModel()\n",
    "            pars = mod.guess(peak, x = x)\n",
    "            out = mod.fit(peak, pars, x= x)\n",
    "            gaussResult = out.best_fit\n",
    "            \n",
    "            # stacking Gaussians\n",
    "            if i == 0:\n",
    "                self.gaussResults = gaussResult\n",
    "            else:\n",
    "                self.gaussResults = np.vstack((self.gaussResults,gaussResult))\n",
    "            \n",
    "            self.sigmas.append(out.params['sigma'].value)\n",
    "        \n",
    "    def IndivGaussians(self):\n",
    "        return self.gaussResults\n",
    "        \n",
    "    def sigmas(self):\n",
    "        return self.sigmas\n",
    "        \n",
    "    def Added_Gaussian(self):\n",
    "        \n",
    "        if len(self.gaussResults[0]) == 1:\n",
    "            GaussAdd = self.gaussResults\n",
    "            \n",
    "        else:\n",
    "            GaussAdd = []\n",
    "            for o in range(len(self.gaussResults[1])):\n",
    "                GaussAdd = np.append(GaussAdd, 0)\n",
    "                for t in range(len(self.gaussResults[:,1])):\n",
    "                    GaussAdd[o] = GaussAdd[o] + self.gaussResults[t,o]\n",
    "                    \n",
    "        return GaussAdd"
   ]
  },
  {
   "cell_type": "code",
   "execution_count": 345,
   "metadata": {},
   "outputs": [],
   "source": [
    "class Slice:\n",
    "    def __init__(self, data, peaks, nofpeaks):\n",
    "        self.peaks = peaks\n",
    "        self.data = data\n",
    "        self.xpeaks = peaks \n",
    "        self.minima = []\n",
    "        self.nofpeaks = nofpeaks\n",
    "        for j in range(self.nofpeaks-1):\n",
    "            # Compute x-indices of all minima by which we slice\n",
    "            peak1 = self.xpeaks[j]\n",
    "            peak2 = self.xpeaks[j+1]\n",
    "            Min_y = min(data[peak1:peak2])\n",
    "            Min_x = np.asarray(np.where(self.data == Min_y))\n",
    "            self.minima = np.append(self.minima, Min_x)      \n",
    "    \n",
    "        # To make following loop easier, include zeroth and last index of spectrum\n",
    "        zero = np.insert(self.minima, 0, 0)\n",
    "        self.minima_indices = np.append(zero, len(self.data))\n",
    "        \n",
    "        # Actually slicing, filling zeros where out of slice bounds\n",
    "        for k in range(self.nofpeaks):\n",
    "            if k == 0:\n",
    "                single_slice = self.data[int(self.minima_indices[k]):int(self.minima_indices[k+1])]\n",
    "                for n in range(len(self.data)-len(single_slice)):\n",
    "                    single_slice = np.append(single_slice, 0)\n",
    "                self.Slices = single_slice\n",
    "                \n",
    "            elif k == len(self.peaks)-1:\n",
    "                single_slice = self.data[int(self.minima_indices[k]):int(self.minima_indices[k+1])]\n",
    "                for n in range(len(self.data)-len(single_slice)):\n",
    "                    single_slice = np.insert(single_slice, 0, 0)\n",
    "                self.Slices = np.vstack((self.Slices,single_slice))\n",
    "                \n",
    "            else:\n",
    "                single_slice = self.data[int(self.minima_indices[k]):int(self.minima_indices[k+1])]\n",
    "                for n in range(0,int(self.minima_indices[k])):\n",
    "                    single_slice = np.insert(single_slice, 0, 0)\n",
    "                for n in range(int(self.minima_indices[k+1]), len(self.data)):\n",
    "                    single_slice = np.append(single_slice, 0)\n",
    "                self.Slices = np.vstack((self.Slices,single_slice))\n",
    "            \"\"\"\n",
    "            # Visual module\n",
    "            print(\"plotting single slices\")\n",
    "            plt.plot(single_slice)\n",
    "            plt.show()\n",
    "            \"\"\"\n",
    "        \n",
    "    def SlicingPoints(self):\n",
    "        return self.minima\n",
    "    def slices(self):\n",
    "        return self.Slices"
   ]
  },
  {
   "cell_type": "code",
   "execution_count": 313,
   "metadata": {},
   "outputs": [],
   "source": [
    "# helps fast_fit return peaks\n",
    "class Peakfinder:\n",
    "    def __init__(self, data):\n",
    "        self.data = data\n",
    "        self.peaks = sp.signal.find_peaks(self.data, height = heightcut, prominence = prominence*max(self.data)/100)\n",
    "        self.peaks = self.peaks[0]\n",
    "        \n",
    "        self.xpeaks = np.asarray(self.peaks)\n",
    "        self.ypeaks = np.asarray(self.data[self.xpeaks])\n",
    "        self.allpeaks = np.array([self.xpeaks,self.ypeaks])\n",
    "        \n",
    "        \n",
    "    def peaks(self):\n",
    "    # returns dataset with neutral index x and intensity y  \n",
    "        \"\"\"\n",
    "        # Visual module\n",
    "        print(\"Plotting peaks found. Neutrally indexed.\")\n",
    "        plt.plot(self.data, label=\"data fed to peak finder\")\n",
    "        plt.plot(self.xpeaks,self.ypeaks,label=\"peaks\",'go')\n",
    "        plt.legend()\n",
    "        plt.show()\n",
    "        \"\"\"\n",
    "        return self.allpeaks"
   ]
  },
  {
   "cell_type": "code",
   "execution_count": 314,
   "metadata": {},
   "outputs": [],
   "source": [
    "# Can put further constraints in this class\n",
    "class Filter_peaks:\n",
    "    def __init__(self,data):\n",
    "        self.data = data\n",
    "        return None\n",
    "    def filtered_peaks(self):\n",
    "        return self.data"
   ]
  },
  {
   "cell_type": "code",
   "execution_count": 315,
   "metadata": {},
   "outputs": [],
   "source": [
    "# Trialling lowpass function for random spectra to find optimal cutoff\n",
    "# Indexed neutrally (i.e. not by energy)\n",
    "\n",
    "# Potential upgrades: fit also \"from above\" -> i.e. take into account overfitting. Eg by max threshold of peaks\n",
    "# Could also incorporate backloop into slowfit!\n",
    "\n",
    "class Fast_Backloop:\n",
    "    def __init__(self):\n",
    "        cutoffs = []\n",
    "        \n",
    "        # finding appropriate cutoff for 4 spectra within dataset\n",
    "        for i in range(4):\n",
    "\n",
    "            p = random.randrange(0, len(intense[:,1]), 1) # finding random spectrum to use\n",
    "            \n",
    "            print (\"Trialled for spectrum\", p)\n",
    "            \n",
    "            self.lowpassdata = intense[p,:]\n",
    "            lpcutoff = 0.001                         # this constant seems low enough - reconsider if not applicable to all datasets\n",
    "            n = 0\n",
    "\n",
    "            while True:\n",
    "                # fitting lowpass function with given cutoff\n",
    "                b, a = signal.butter(deg, lpcutoff, 'low')\n",
    "                self.lpfn = signal.filtfilt(b, a, self.lowpassdata)\n",
    "                \n",
    "                # Visual module for checking\n",
    "                \"\"\"plt.plot(self.lpfn, label='lowpass')\n",
    "                plt.plot(self.lowpassdata, label='raw data')\n",
    "                plt.legend()\n",
    "                plt.show()\"\"\"\n",
    "\n",
    "                # condition for good fitting based on vertical distance between maxima of raw and lowpass dataset\n",
    "                # if not fitted within backloop_condition, increment until good fit\n",
    "                self.height_difference = abs(max(self.lowpassdata) - max(self.lpfn))\n",
    "                if self.height_difference > backloop_condition * max(self.lowpassdata)/100:\n",
    "                    lpcutoff = lpcutoff + 0.005\n",
    "                else:\n",
    "                    break\n",
    "\n",
    "            cutoffs = np.append(cutoffs, lpcutoff)\n",
    "        \n",
    "        # Finding average of cutoffs to 4 decimal points\n",
    "        self.avg_cutoff = \"%.4f\" % np.average(cutoffs)\n",
    "        print(\"Average cutoff for dataset:\", self.avg_cutoff)\n",
    "        return None\n",
    "    def cutoff(self):\n",
    "        return self.avg_cutoff"
   ]
  },
  {
   "cell_type": "code",
   "execution_count": null,
   "metadata": {},
   "outputs": [],
   "source": []
  }
 ],
 "metadata": {
  "kernelspec": {
   "display_name": "Python 3",
   "language": "python",
   "name": "python3"
  },
  "language_info": {
   "codemirror_mode": {
    "name": "ipython",
    "version": 3
   },
   "file_extension": ".py",
   "mimetype": "text/x-python",
   "name": "python",
   "nbconvert_exporter": "python",
   "pygments_lexer": "ipython3",
   "version": "3.7.1"
  }
 },
 "nbformat": 4,
 "nbformat_minor": 2
}
