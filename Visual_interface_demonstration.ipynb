{
 "cells": [
  {
   "cell_type": "code",
   "execution_count": 1,
   "metadata": {},
   "outputs": [],
   "source": [
    "from __future__ import print_function\n",
    "from ipywidgets import interact, interactive, fixed, interact_manual\n",
    "import ipywidgets as widgets\n",
    "import sys\n",
    "import h5py\n",
    "import numpy as np \n",
    "from src_visual.parameters import Parameters as p\n",
    "from src_visual.peaksandsigmas import Peaks_and_Sigmas\n",
    "from src_visual.main import Main\n",
    "from src_visual.avgspectrum import Avg_Spectrum\n",
    "from src_visual.alldata import All_Data\n",
    "def File(Input):\n",
    "    # reading h5 file\n",
    "    f = h5py.File(Input)\n",
    "    photE = f.get(\"x-axis\")\n",
    "    intense = f.get(\"y-axis\")\n",
    "    intense = intense[5,:]\n",
    "    spectrum = range(0,len(intense-1)) # for parameter redefinition\n",
    "    p.x = np.asarray(spectrum)\n",
    "    \n",
    "    fn = Main(intense,photE)\n",
    "    def analysis(Input1):\n",
    "        number_of_peaks = fn.number_of_peaks\n",
    "        avgsigma = fn.avgsigma\n",
    "        #print(\"Maximum number of peaks for single spectrum in this dataset:\", int(max(number_of_peaks)))\n",
    "        characters = []\n",
    "        indices = []\n",
    "        for i in range(len(Input1)):\n",
    "            if Input1[i] == ',':\n",
    "                pass\n",
    "            elif Input1[i] == ' ':\n",
    "                pass\n",
    "            else:\n",
    "                integer = int(Input1[i])\n",
    "                characters = np.append(characters, integer)\n",
    "        characters = characters.astype(int)\n",
    "        return Peaks_and_Sigmas(number_of_peaks, avgsigma, photE, intense, characters)\n",
    "\n",
    "\n",
    "    button = widgets.Button(description=\"Plot avg spectrum\")\n",
    "    output = widgets.Output()\n",
    "\n",
    "    display(button, output)\n",
    "\n",
    "    def on_button_clicked(b):\n",
    "        with output:\n",
    "            return Avg_Spectrum(intense, photE)\n",
    "\n",
    "    button.on_click(on_button_clicked)\n",
    "    print(\"Input the spectra for a given number of peaks you wish to see, separated by commas\")\n",
    "    interact(analysis, Input1 = '1')\n",
    "    \n",
    "    button2 = widgets.Button(description = \"Full data table\")\n",
    "    output2 = widgets.Output()\n",
    "    display(button2, output2)\n",
    "    def on_button_clicked2(b):\n",
    "        with output2:\n",
    "            return All_Data(intense, photE, Input)\n",
    "    button2.on_click(on_button_clicked2)\n",
    "\n"
   ]
  },
  {
   "cell_type": "code",
   "execution_count": 2,
   "metadata": {
    "scrolled": false
   },
   "outputs": [
    {
     "data": {
      "application/vnd.jupyter.widget-view+json": {
       "model_id": "3e9eaae4c40143108f9ed2dec9fbc906",
       "version_major": 2,
       "version_minor": 0
      },
      "text/plain": [
       "interactive(children=(Text(value='2019-10-14_02-45-48_threestage_v1_PSSS_LINAC1_Phase_6.h5', description='Inpu…"
      ]
     },
     "metadata": {},
     "output_type": "display_data"
    },
    {
     "data": {
      "text/plain": [
       "<function __main__.File(Input)>"
      ]
     },
     "execution_count": 2,
     "metadata": {},
     "output_type": "execute_result"
    }
   ],
   "source": [
    "interact(File, Input = '2019-10-14_02-45-48_threestage_v1_PSSS_LINAC1_Phase_6.h5')"
   ]
  },
  {
   "cell_type": "code",
   "execution_count": null,
   "metadata": {},
   "outputs": [],
   "source": []
  }
 ],
 "metadata": {
  "kernelspec": {
   "display_name": "Python 3",
   "language": "python",
   "name": "python3"
  },
  "language_info": {
   "codemirror_mode": {
    "name": "ipython",
    "version": 3
   },
   "file_extension": ".py",
   "mimetype": "text/x-python",
   "name": "python",
   "nbconvert_exporter": "python",
   "pygments_lexer": "ipython3",
   "version": "3.7.1"
  }
 },
 "nbformat": 4,
 "nbformat_minor": 2
}
